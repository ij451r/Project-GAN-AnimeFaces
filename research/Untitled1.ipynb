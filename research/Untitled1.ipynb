{
 "cells": [
  {
   "cell_type": "code",
   "execution_count": 1,
   "id": "81d2eb8a-76fd-474d-aecb-a9dbffd4b63d",
   "metadata": {},
   "outputs": [],
   "source": [
    "import os\n",
    "DATA_DIR = '../artifacts/data_ingestion/'"
   ]
  },
  {
   "cell_type": "code",
   "execution_count": 2,
   "id": "a7f35167-5dea-458c-9e32-cd42dd2a1d7c",
   "metadata": {},
   "outputs": [
    {
     "name": "stdout",
     "output_type": "stream",
     "text": [
      "['0_2000.jpg', '10000_2004.jpg', '10001_2004.jpg', '10002_2004.jpg', '10003_2004.jpg']\n"
     ]
    }
   ],
   "source": [
    "print(os.listdir(DATA_DIR+'/images')[:5])"
   ]
  },
  {
   "cell_type": "code",
   "execution_count": null,
   "id": "2c365c50-4bb0-4df9-adef-627a1aac5bdc",
   "metadata": {},
   "outputs": [],
   "source": []
  }
 ],
 "metadata": {
  "kernelspec": {
   "display_name": "Python 3 (ipykernel)",
   "language": "python",
   "name": "python3"
  },
  "language_info": {
   "codemirror_mode": {
    "name": "ipython",
    "version": 3
   },
   "file_extension": ".py",
   "mimetype": "text/x-python",
   "name": "python",
   "nbconvert_exporter": "python",
   "pygments_lexer": "ipython3",
   "version": "3.11.5"
  }
 },
 "nbformat": 4,
 "nbformat_minor": 5
}
