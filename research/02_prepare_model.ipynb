{
 "cells": [
  {
   "cell_type": "code",
   "execution_count": 1,
   "id": "44d832db-7d58-45d2-a433-da48dda18354",
   "metadata": {},
   "outputs": [
    {
     "data": {
      "text/plain": [
       "'D:\\\\projects\\\\Project-GAN-AnimeFaces'"
      ]
     },
     "execution_count": 1,
     "metadata": {},
     "output_type": "execute_result"
    }
   ],
   "source": [
    "import os \n",
    "os.chdir('../')\n",
    "%pwd"
   ]
  },
  {
   "cell_type": "code",
   "execution_count": 10,
   "id": "b41b992e-de5c-4126-9f07-c5fec439a512",
   "metadata": {},
   "outputs": [],
   "source": [
    "from dataclasses import dataclass\n",
    "from pathlib import Path\n",
    "\n",
    "@dataclass(frozen=True)\n",
    "class PrepareModelConfig:\n",
    "    root_dir: Path\n",
    "    generator_model: Path\n",
    "    discriminator_model: Path\n",
    "    latent_size: int"
   ]
  },
  {
   "cell_type": "code",
   "execution_count": 11,
   "id": "ea0de7c7-dee2-4879-8e3e-17e84ed2a4ff",
   "metadata": {},
   "outputs": [],
   "source": [
    "from AnimeFaces.constants import * \n",
    "from AnimeFaces.utils.common import read_yaml, create_directories"
   ]
  },
  {
   "cell_type": "code",
   "execution_count": 12,
   "id": "12d8e337-b546-46df-80d7-2b5560e5c20b",
   "metadata": {},
   "outputs": [],
   "source": [
    "class ConfigurationManager:\n",
    "    def __init__(self , config_filepath = CONFIG_FILE_PATH , params_filepath = PARAMS_FILE_PATH , schema_filepath = SCHEMA_FILE_PATH,):\n",
    "        \n",
    "        self.config = read_yaml(config_filepath)\n",
    "        self.params = read_yaml(params_filepath)\n",
    "        self.schema = read_yaml(schema_filepath)\n",
    "        \n",
    "        create_directories([self.config.artifacts_root])\n",
    "\n",
    "    def get_prepare_model_config(self) -> PrepareModelConfig:\n",
    "        config = self.config.prepare_model\n",
    "        create_directories([config.root_dir])\n",
    "        prepare_model_config = PrepareModelConfig(\n",
    "            root_dir = config.root_dir,\n",
    "            generator_model = config.generator_model,\n",
    "            discriminator_model = config.discriminator_model,\n",
    "            latent_size = config.latent_size,\n",
    "        )\n",
    "        return prepare_model_config"
   ]
  },
  {
   "cell_type": "code",
   "execution_count": 13,
   "id": "ceaecc1e-c8c7-44ed-9600-6fcd4ff636fb",
   "metadata": {},
   "outputs": [],
   "source": [
    "from AnimeFaces import logger\n",
    "from AnimeFaces.utils.device_utils import get_default_device"
   ]
  },
  {
   "cell_type": "code",
   "execution_count": 16,
   "id": "e09734ad-f657-4cf5-b99a-1999044d48bc",
   "metadata": {},
   "outputs": [],
   "source": [
    "import torch.nn as nn\n",
    "import torch\n",
    "class PrepareModel:\n",
    "    def __init__(self, config: PrepareModelConfig):\n",
    "        self.config = config\n",
    "        self.device = get_default_device()\n",
    "    def PrepareDiscriminatorModel(self):\n",
    "        discriminator = nn.Sequential(\n",
    "            # in: 3 x 64 x 64\n",
    "        \n",
    "            nn.Conv2d(3, 64, kernel_size=4, stride=2, padding=1, bias=False),\n",
    "            nn.BatchNorm2d(64),\n",
    "            nn.LeakyReLU(0.2, inplace=True),\n",
    "            # out: 64 x 32 x 32\n",
    "        \n",
    "            nn.Conv2d(64, 128, kernel_size=4, stride=2, padding=1, bias=False),\n",
    "            nn.BatchNorm2d(128),\n",
    "            nn.LeakyReLU(0.2, inplace=True),\n",
    "            # out: 128 x 16 x 16\n",
    "        \n",
    "            nn.Conv2d(128, 256, kernel_size=4, stride=2, padding=1, bias=False),\n",
    "            nn.BatchNorm2d(256),\n",
    "            nn.LeakyReLU(0.2, inplace=True),\n",
    "            # out: 256 x 8 x 8\n",
    "        \n",
    "            nn.Conv2d(256, 512, kernel_size=4, stride=2, padding=1, bias=False),\n",
    "            nn.BatchNorm2d(512),\n",
    "            nn.LeakyReLU(0.2, inplace=True),\n",
    "            # out: 512 x 4 x 4\n",
    "        \n",
    "            nn.Conv2d(512, 1, kernel_size=4, stride=1, padding=0, bias=False),\n",
    "            # out: 1 x 1 x 1\n",
    "        \n",
    "            nn.Flatten(),\n",
    "            nn.Sigmoid()\n",
    "        )\n",
    "        torch.save(discriminator.state_dict(), self.config.discriminator_model)\n",
    "    \n",
    "    def PrepareGeneratorModel(self):\n",
    "        generator = nn.Sequential(\n",
    "            \n",
    "            # latent_size x 1 x 1\n",
    "            nn.ConvTranspose2d(self.config.latent_size,512,kernel_size=4,stride=1,padding=0,bias=False),\n",
    "            nn.BatchNorm2d(512),\n",
    "            nn.ReLU(True),\n",
    "        \n",
    "            # 512 x 4 x 4\n",
    "            nn.ConvTranspose2d(512,256,kernel_size=4,stride=2,padding=1,bias=False),\n",
    "            nn.BatchNorm2d(256),\n",
    "            nn.ReLU(True),\n",
    "            \n",
    "            # 256 x 8 x 8\n",
    "            nn.ConvTranspose2d(256,128,kernel_size=4,stride=2,padding=1,bias=False),\n",
    "            nn.BatchNorm2d(128),\n",
    "            nn.ReLU(True),\n",
    "            \n",
    "            # 128 x 16 x 16\n",
    "            nn.ConvTranspose2d(128,64,kernel_size=4,stride=2,padding=1,bias=False),\n",
    "            nn.BatchNorm2d(64),\n",
    "            nn.ReLU(True),\n",
    "            \n",
    "            # 64 x 32 x 32\n",
    "            nn.ConvTranspose2d(64,3,kernel_size=4,stride=2,padding=1,bias=False),\n",
    "            nn.Tanh()\n",
    "            \n",
    "            #3 x 64 x 64\n",
    "        )\n",
    "        torch.save(generator.state_dict(), self.config.generator_model)"
   ]
  },
  {
   "cell_type": "code",
   "execution_count": 17,
   "id": "34ff29ff-9a50-4cc8-96c8-2e03dc8f6869",
   "metadata": {},
   "outputs": [
    {
     "name": "stdout",
     "output_type": "stream",
     "text": [
      "[2023-10-02 00:42:14,295: INFO: common: yaml file: config\\config.yaml loaded successfully]\n",
      "[2023-10-02 00:42:14,297: INFO: common: yaml file: params.yaml loaded successfully]\n",
      "[2023-10-02 00:42:14,298: INFO: common: yaml file: schema.yaml loaded successfully]\n",
      "[2023-10-02 00:42:14,299: INFO: common: Directory Created: artifacts]\n",
      "[2023-10-02 00:42:14,301: INFO: common: Directory Created: artifacts/prepare_base_model]\n"
     ]
    }
   ],
   "source": [
    "try:\n",
    "    config = ConfigurationManager()\n",
    "    prepare_model_config = config.get_prepare_model_config()\n",
    "    prepare_model = PrepareModel(config = prepare_model_config)\n",
    "    prepare_model.PrepareDiscriminatorModel()\n",
    "    prepare_model.PrepareGeneratorModel()\n",
    "except Exception as e:\n",
    "    raise e"
   ]
  },
  {
   "cell_type": "code",
   "execution_count": null,
   "id": "47e58736-dfd3-4380-8192-9a6a11b1378f",
   "metadata": {},
   "outputs": [],
   "source": []
  }
 ],
 "metadata": {
  "kernelspec": {
   "display_name": "Python 3 (ipykernel)",
   "language": "python",
   "name": "python3"
  },
  "language_info": {
   "codemirror_mode": {
    "name": "ipython",
    "version": 3
   },
   "file_extension": ".py",
   "mimetype": "text/x-python",
   "name": "python",
   "nbconvert_exporter": "python",
   "pygments_lexer": "ipython3",
   "version": "3.11.5"
  }
 },
 "nbformat": 4,
 "nbformat_minor": 5
}
